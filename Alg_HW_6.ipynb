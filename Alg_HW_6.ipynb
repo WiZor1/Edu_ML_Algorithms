{
 "cells": [
  {
   "cell_type": "markdown",
   "metadata": {},
   "source": [
    "**Задание 1:** Для реализованной в методичке модели градиентного бустинга построить графики зависимости ошибки от количества деревьев в ансамбле и от максимальной глубины деревьев. Сделать выводы о зависимости ошибки от этих параметров.<br>\n",
    "**Задание 2: (опция).** Модифицировать реализованный алгоритм, чтобы получился стохастический градиентный бустинг. Размер подвыборки принять равным 0.5. Сравнить на одном графике кривые изменения ошибки на тестовой выборке в зависимости от числа итераций.<br>\n",
    "**Задание 3:(опция).** Реализовать алгоритм градиетного бустинга, основанный на реализации решающего дерева из ДЗ4 / методички к уроку 4. Сделать выводы о качестве алгоритма по сравнению с реализацией из п.1.\n",
    "\n",
    "------"
   ]
  },
  {
   "cell_type": "code",
   "execution_count": 1,
   "metadata": {},
   "outputs": [],
   "source": [
    "from sklearn.tree import DecisionTreeRegressor\n",
    "\n",
    "from sklearn import model_selection\n",
    "import numpy as np\n",
    "import pandas as pd\n",
    "from sklearn.datasets import load_diabetes\n",
    "import matplotlib.pyplot as plt\n",
    "import seaborn as sns"
   ]
  },
  {
   "cell_type": "markdown",
   "metadata": {},
   "source": [
    "1) Реализация из методички:"
   ]
  },
  {
   "cell_type": "code",
   "execution_count": 3,
   "metadata": {},
   "outputs": [],
   "source": [
    "def gb_predict(X, trees_list, coef_list, eta):\n",
    "    return np.array([sum([eta* coef * alg.predict([x])[0] for alg, coef in zip(trees_list, coef_list)]) for x in X])\n",
    "\n",
    "def bias(y, z):\n",
    "    return (y - z)\n",
    "\n",
    "def mean_squared_error(y_real, prediction):\n",
    "    return (sum((y_real - prediction)**2)) / len(y_real)\n",
    "\n",
    "def evaluate_alg(X_train, X_test, y_train, y_test, trees, coefs, eta):\n",
    "    train_prediction = gb_predict(X_train, trees, coefs, eta)\n",
    "\n",
    "    print(f'Ошибка алгоритма из {n_trees} деревьев глубиной {max_depth} \\\n",
    "    с шагом {eta} на тренировочной выборке: {mean_squared_error(y_train, train_prediction)}')\n",
    "\n",
    "    test_prediction = gb_predict(X_test, trees, coefs, eta)\n",
    "\n",
    "    print(f'Ошибка алгоритма из {n_trees} деревьев глубиной {max_depth} \\\n",
    "    с шагом {eta} на тестовой выборке: {mean_squared_error(y_test, test_prediction)}')\n",
    "\n",
    "def gb_fit(n_trees, max_depth, X_train, X_test, y_train, y_test, coefs, eta, fit_size):\n",
    "    \n",
    "    trees = []\n",
    "    train_errors = []\n",
    "    test_errors = []\n",
    "    fit_size = int(X_train * fit_size) if fit_size < 1 else int(fit_size)\n",
    "    \n",
    "    for i in range(n_trees):\n",
    "        mask = np.random.choice(np.arange(X_train.shape[0]), size=fit_size, replace=False)\n",
    "        tree = DecisionTreeRegressor(max_depth=max_depth, random_state=42)\n",
    "        np.random.choice(np.arange(2), size=2, replace=False)\n",
    "        if len(trees) == 0:\n",
    "            tree.fit(X_train, y_train)\n",
    "            \n",
    "            train_errors.append(mean_squared_error(y_train, gb_predict(X_train, trees, coefs, eta)))\n",
    "            test_errors.append(mean_squared_error(y_test, gb_predict(X_test, trees, coefs, eta)))\n",
    "        else:\n",
    "            target = gb_predict(X_train, trees, coefs, eta)\n",
    "            \n",
    "            tree.fit(X_train, bias(y_train, target))\n",
    "            \n",
    "            train_errors.append(mean_squared_error(y_train, gb_predict(X_train, trees, coefs, eta)))\n",
    "            test_errors.append(mean_squared_error(y_test, gb_predict(X_test, trees, coefs, eta)))\n",
    "\n",
    "        trees.append([tree, mask])\n",
    "        \n",
    "    return trees, train_errors, test_errors\n",
    "\n",
    "def get_error_plot(n_trees, train_err, test_err):\n",
    "    plt.xlabel('Iteration number')\n",
    "    plt.ylabel('MSE')\n",
    "    plt.xlim(0, n_trees)\n",
    "    plt.plot(list(range(n_trees)), train_err, label='train error')\n",
    "    plt.plot(list(range(n_trees)), test_err, label='test error')\n",
    "    plt.legend(loc='upper right')\n",
    "    plt.show()"
   ]
  },
  {
   "cell_type": "code",
   "execution_count": 4,
   "metadata": {},
   "outputs": [],
   "source": [
    "X, y = load_diabetes(return_X_y=True)\n",
    "X_train, X_test, y_train, y_test = model_selection.train_test_split(X, y, test_size=0.25)"
   ]
  },
  {
   "cell_type": "code",
   "execution_count": 102,
   "metadata": {},
   "outputs": [
    {
     "data": {
      "text/plain": [
       "array([0, 1])"
      ]
     },
     "execution_count": 102,
     "metadata": {},
     "output_type": "execute_result"
    }
   ],
   "source": [
    "X_size = X.shape[0]\n",
    "np.random.choice(np.arange(2), size=2, replace=False)"
   ]
  },
  {
   "cell_type": "code",
   "execution_count": 5,
   "metadata": {},
   "outputs": [
    {
     "name": "stdout",
     "output_type": "stream",
     "text": [
      "Ошибка алгоритма из 20 деревьев глубиной 3     с шагом 0.5 на тренировочной выборке: 887.9872142264742\n",
      "Ошибка алгоритма из 20 деревьев глубиной 3     с шагом 0.5 на тестовой выборке: 3310.0289002982013\n"
     ]
    }
   ],
   "source": [
    "n_trees = 20\n",
    "coefs = [1] * n_trees\n",
    "max_depth = 3\n",
    "eta = 0.5\n",
    "\n",
    "trees, train_errors, test_errors = gb_fit(n_trees, max_depth, X_train, X_test, y_train, y_test, coefs, eta)\n",
    "evaluate_alg(X_train, X_test, y_train, y_test, trees, coefs, eta)"
   ]
  },
  {
   "cell_type": "code",
   "execution_count": 6,
   "metadata": {
    "scrolled": false
   },
   "outputs": [
    {
     "data": {
      "image/png": "[encoded data removed]",
      "text/plain": [
       "<Figure size 432x288 with 1 Axes>"
      ]
     },
     "metadata": {
      "needs_background": "light"
     },
     "output_type": "display_data"
    }
   ],
   "source": [
    "get_error_plot(n_trees, train_errors, test_errors)"
   ]
  },
  {
   "cell_type": "code",
   "execution_count": 7,
   "metadata": {
    "scrolled": true
   },
   "outputs": [
    {
     "name": "stdout",
     "output_type": "stream",
     "text": [
      "2\n",
      "7\n",
      "12\n",
      "17\n",
      "22\n",
      "27\n",
      "32\n",
      "37\n"
     ]
    }
   ],
   "source": [
    "coefs = [1] * n_trees\n",
    "eta = 0.2\n",
    "\n",
    "results = pd.DataFrame(columns=['n_trees', 'depth', 'train_mae', 'test_mae'])\n",
    "\n",
    "for n_trees in range(2, 40, 5):\n",
    "    for depth in range(2, 8):\n",
    "        trees, train_errors, test_errors = gb_fit(n_trees, depth, X_train, X_test, y_train, y_test, coefs, eta)\n",
    "        train_mae = mean_squared_error(y_train, gb_predict(X_train, trees, coefs, eta))\n",
    "        test_mae = mean_squared_error(y_test, gb_predict(X_test, trees, coefs, eta))\n",
    "        results = results.append({'n_trees': n_trees,\n",
    "                                  'depth': depth,\n",
    "                                  'train_mae': train_mae,\n",
    "                                  'test_mae': test_mae},\n",
    "                                 ignore_index=True)\n",
    "    print(n_trees)"
   ]
  },
  {
   "cell_type": "code",
   "execution_count": 33,
   "metadata": {},
   "outputs": [
    {
     "data": {
      "text/html": [
       "<div>\n",
       "<style scoped>\n",
       "    .dataframe tbody tr th:only-of-type {\n",
       "        vertical-align: middle;\n",
       "    }\n",
       "\n",
       "    .dataframe tbody tr th {\n",
       "        vertical-align: top;\n",
       "    }\n",
       "\n",
       "    .dataframe thead th {\n",
       "        text-align: right;\n",
       "    }\n",
       "</style>\n",
       "<table border=\"1\" class=\"dataframe\">\n",
       "  <thead>\n",
       "    <tr style=\"text-align: right;\">\n",
       "      <th></th>\n",
       "      <th>n_trees</th>\n",
       "      <th>depth</th>\n",
       "      <th>train_mae</th>\n",
       "      <th>test_mae</th>\n",
       "    </tr>\n",
       "  </thead>\n",
       "  <tbody>\n",
       "  </tbody>\n",
       "</table>\n",
       "</div>"
      ],
      "text/plain": [
       "Empty DataFrame\n",
       "Columns: [n_trees, depth, train_mae, test_mae]\n",
       "Index: []"
      ]
     },
     "execution_count": 33,
     "metadata": {},
     "output_type": "execute_result"
    }
   ],
   "source": [
    "results = pd.DataFrame(columns=['n_trees', 'depth', 'train_mae', 'test_mae'])\n",
    "results['n_trees'] = results['n_trees'].astype('int')\n",
    "results['depth'] = results['depth'].astype('int')\n",
    "# results.head()"
   ]
  },
  {
   "cell_type": "code",
   "execution_count": 23,
   "metadata": {},
   "outputs": [
    {
     "name": "stdout",
     "output_type": "stream",
     "text": [
      "Train:\n"
     ]
    },
    {
     "data": {
      "text/html": [
       "<div>\n",
       "<style scoped>\n",
       "    .dataframe tbody tr th:only-of-type {\n",
       "        vertical-align: middle;\n",
       "    }\n",
       "\n",
       "    .dataframe tbody tr th {\n",
       "        vertical-align: top;\n",
       "    }\n",
       "\n",
       "    .dataframe thead th {\n",
       "        text-align: right;\n",
       "    }\n",
       "</style>\n",
       "<table border=\"1\" class=\"dataframe\">\n",
       "  <thead>\n",
       "    <tr style=\"text-align: right;\">\n",
       "      <th>n_trees</th>\n",
       "      <th>2</th>\n",
       "      <th>7</th>\n",
       "      <th>12</th>\n",
       "      <th>17</th>\n",
       "      <th>22</th>\n",
       "      <th>27</th>\n",
       "      <th>32</th>\n",
       "      <th>37</th>\n",
       "    </tr>\n",
       "    <tr>\n",
       "      <th>depth</th>\n",
       "      <th></th>\n",
       "      <th></th>\n",
       "      <th></th>\n",
       "      <th></th>\n",
       "      <th></th>\n",
       "      <th></th>\n",
       "      <th></th>\n",
       "      <th></th>\n",
       "    </tr>\n",
       "  </thead>\n",
       "  <tbody>\n",
       "    <tr>\n",
       "      <th>2</th>\n",
       "      <td>13804.664651</td>\n",
       "      <td>4009.584785</td>\n",
       "      <td>2655.999735</td>\n",
       "      <td>2310.726660</td>\n",
       "      <td>2171.267282</td>\n",
       "      <td>2171.267282</td>\n",
       "      <td>2171.267282</td>\n",
       "      <td>2171.267282</td>\n",
       "    </tr>\n",
       "    <tr>\n",
       "      <th>3</th>\n",
       "      <td>13531.196916</td>\n",
       "      <td>3423.404935</td>\n",
       "      <td>1967.753259</td>\n",
       "      <td>1608.255565</td>\n",
       "      <td>1474.118360</td>\n",
       "      <td>1474.118360</td>\n",
       "      <td>1474.118360</td>\n",
       "      <td>1474.118360</td>\n",
       "    </tr>\n",
       "    <tr>\n",
       "      <th>4</th>\n",
       "      <td>13253.702259</td>\n",
       "      <td>2935.765379</td>\n",
       "      <td>1477.835960</td>\n",
       "      <td>1176.942064</td>\n",
       "      <td>1071.803450</td>\n",
       "      <td>1071.803450</td>\n",
       "      <td>1071.803450</td>\n",
       "      <td>1071.803450</td>\n",
       "    </tr>\n",
       "    <tr>\n",
       "      <th>5</th>\n",
       "      <td>12960.358477</td>\n",
       "      <td>2428.118856</td>\n",
       "      <td>930.017202</td>\n",
       "      <td>575.483127</td>\n",
       "      <td>476.792269</td>\n",
       "      <td>476.792269</td>\n",
       "      <td>476.792269</td>\n",
       "      <td>476.792269</td>\n",
       "    </tr>\n",
       "    <tr>\n",
       "      <th>6</th>\n",
       "      <td>12712.157524</td>\n",
       "      <td>2042.623967</td>\n",
       "      <td>528.977355</td>\n",
       "      <td>230.504387</td>\n",
       "      <td>165.545790</td>\n",
       "      <td>165.545790</td>\n",
       "      <td>165.545790</td>\n",
       "      <td>165.545790</td>\n",
       "    </tr>\n",
       "    <tr>\n",
       "      <th>7</th>\n",
       "      <td>12430.544620</td>\n",
       "      <td>1788.751114</td>\n",
       "      <td>373.627214</td>\n",
       "      <td>120.426766</td>\n",
       "      <td>69.838703</td>\n",
       "      <td>69.838703</td>\n",
       "      <td>69.838703</td>\n",
       "      <td>69.838703</td>\n",
       "    </tr>\n",
       "  </tbody>\n",
       "</table>\n",
       "</div>"
      ],
      "text/plain": [
       "n_trees            2            7            12           17           22  \\\n",
       "depth                                                                       \n",
       "2        13804.664651  4009.584785  2655.999735  2310.726660  2171.267282   \n",
       "3        13531.196916  3423.404935  1967.753259  1608.255565  1474.118360   \n",
       "4        13253.702259  2935.765379  1477.835960  1176.942064  1071.803450   \n",
       "5        12960.358477  2428.118856   930.017202   575.483127   476.792269   \n",
       "6        12712.157524  2042.623967   528.977355   230.504387   165.545790   \n",
       "7        12430.544620  1788.751114   373.627214   120.426766    69.838703   \n",
       "\n",
       "n_trees           27           32           37  \n",
       "depth                                           \n",
       "2        2171.267282  2171.267282  2171.267282  \n",
       "3        1474.118360  1474.118360  1474.118360  \n",
       "4        1071.803450  1071.803450  1071.803450  \n",
       "5         476.792269   476.792269   476.792269  \n",
       "6         165.545790   165.545790   165.545790  \n",
       "7          69.838703    69.838703    69.838703  "
      ]
     },
     "execution_count": 23,
     "metadata": {},
     "output_type": "execute_result"
    }
   ],
   "source": [
    "results_train = results.pivot('depth', 'n_trees', 'train_mae')\n",
    "results_test = results.pivot('depth', 'n_trees', 'test_mae')\n",
    "\n",
    "print('Train:')\n",
    "results_train"
   ]
  },
  {
   "cell_type": "code",
   "execution_count": 22,
   "metadata": {},
   "outputs": [
    {
     "name": "stdout",
     "output_type": "stream",
     "text": [
      "Test:\n"
     ]
    },
    {
     "data": {
      "text/html": [
       "<div>\n",
       "<style scoped>\n",
       "    .dataframe tbody tr th:only-of-type {\n",
       "        vertical-align: middle;\n",
       "    }\n",
       "\n",
       "    .dataframe tbody tr th {\n",
       "        vertical-align: top;\n",
       "    }\n",
       "\n",
       "    .dataframe thead th {\n",
       "        text-align: right;\n",
       "    }\n",
       "</style>\n",
       "<table border=\"1\" class=\"dataframe\">\n",
       "  <thead>\n",
       "    <tr style=\"text-align: right;\">\n",
       "      <th>n_trees</th>\n",
       "      <th>2</th>\n",
       "      <th>7</th>\n",
       "      <th>12</th>\n",
       "      <th>17</th>\n",
       "      <th>22</th>\n",
       "      <th>27</th>\n",
       "      <th>32</th>\n",
       "      <th>37</th>\n",
       "    </tr>\n",
       "    <tr>\n",
       "      <th>depth</th>\n",
       "      <th></th>\n",
       "      <th></th>\n",
       "      <th></th>\n",
       "      <th></th>\n",
       "      <th></th>\n",
       "      <th></th>\n",
       "      <th></th>\n",
       "      <th></th>\n",
       "    </tr>\n",
       "  </thead>\n",
       "  <tbody>\n",
       "    <tr>\n",
       "      <th>2</th>\n",
       "      <td>13435.257720</td>\n",
       "      <td>4003.656240</td>\n",
       "      <td>3120.986419</td>\n",
       "      <td>3098.186557</td>\n",
       "      <td>3139.934924</td>\n",
       "      <td>3139.934924</td>\n",
       "      <td>3139.934924</td>\n",
       "      <td>3139.934924</td>\n",
       "    </tr>\n",
       "    <tr>\n",
       "      <th>3</th>\n",
       "      <td>13488.270889</td>\n",
       "      <td>3867.465352</td>\n",
       "      <td>3123.674513</td>\n",
       "      <td>3107.569164</td>\n",
       "      <td>3099.792595</td>\n",
       "      <td>3099.792595</td>\n",
       "      <td>3099.792595</td>\n",
       "      <td>3099.792595</td>\n",
       "    </tr>\n",
       "    <tr>\n",
       "      <th>4</th>\n",
       "      <td>13473.330532</td>\n",
       "      <td>3900.272136</td>\n",
       "      <td>3204.710279</td>\n",
       "      <td>3280.241631</td>\n",
       "      <td>3360.174298</td>\n",
       "      <td>3360.174298</td>\n",
       "      <td>3360.174298</td>\n",
       "      <td>3360.174298</td>\n",
       "    </tr>\n",
       "    <tr>\n",
       "      <th>5</th>\n",
       "      <td>13549.447506</td>\n",
       "      <td>3983.695978</td>\n",
       "      <td>3332.633098</td>\n",
       "      <td>3335.428275</td>\n",
       "      <td>3372.760866</td>\n",
       "      <td>3372.760866</td>\n",
       "      <td>3372.760866</td>\n",
       "      <td>3372.760866</td>\n",
       "    </tr>\n",
       "    <tr>\n",
       "      <th>6</th>\n",
       "      <td>13443.464408</td>\n",
       "      <td>4228.961754</td>\n",
       "      <td>3529.896914</td>\n",
       "      <td>3631.119879</td>\n",
       "      <td>3606.072003</td>\n",
       "      <td>3606.072003</td>\n",
       "      <td>3606.072003</td>\n",
       "      <td>3606.072003</td>\n",
       "    </tr>\n",
       "    <tr>\n",
       "      <th>7</th>\n",
       "      <td>13276.580766</td>\n",
       "      <td>4259.923150</td>\n",
       "      <td>3571.290976</td>\n",
       "      <td>3673.537916</td>\n",
       "      <td>3660.062800</td>\n",
       "      <td>3660.062800</td>\n",
       "      <td>3660.062800</td>\n",
       "      <td>3660.062800</td>\n",
       "    </tr>\n",
       "  </tbody>\n",
       "</table>\n",
       "</div>"
      ],
      "text/plain": [
       "n_trees            2            7            12           17           22  \\\n",
       "depth                                                                       \n",
       "2        13435.257720  4003.656240  3120.986419  3098.186557  3139.934924   \n",
       "3        13488.270889  3867.465352  3123.674513  3107.569164  3099.792595   \n",
       "4        13473.330532  3900.272136  3204.710279  3280.241631  3360.174298   \n",
       "5        13549.447506  3983.695978  3332.633098  3335.428275  3372.760866   \n",
       "6        13443.464408  4228.961754  3529.896914  3631.119879  3606.072003   \n",
       "7        13276.580766  4259.923150  3571.290976  3673.537916  3660.062800   \n",
       "\n",
       "n_trees           27           32           37  \n",
       "depth                                           \n",
       "2        3139.934924  3139.934924  3139.934924  \n",
       "3        3099.792595  3099.792595  3099.792595  \n",
       "4        3360.174298  3360.174298  3360.174298  \n",
       "5        3372.760866  3372.760866  3372.760866  \n",
       "6        3606.072003  3606.072003  3606.072003  \n",
       "7        3660.062800  3660.062800  3660.062800  "
      ]
     },
     "execution_count": 22,
     "metadata": {},
     "output_type": "execute_result"
    }
   ],
   "source": [
    "print('Test:')\n",
    "results_test"
   ]
  },
  {
   "cell_type": "code",
   "execution_count": 31,
   "metadata": {},
   "outputs": [
    {
     "data": {
      "image/png": "[encoded data removed]",
      "text/plain": [
       "<Figure size 432x288 with 2 Axes>"
      ]
     },
     "metadata": {
      "needs_background": "light"
     },
     "output_type": "display_data"
    }
   ],
   "source": [
    "ax = sns.heatmap(results_train, cmap='rocket_r', vmax=4500).set_title('Тепловая карта для train')"
   ]
  },
  {
   "cell_type": "code",
   "execution_count": 27,
   "metadata": {},
   "outputs": [
    {
     "data": {
      "image/png": "[encoded data removed]",
      "text/plain": [
       "<Figure size 432x288 with 2 Axes>"
      ]
     },
     "metadata": {
      "needs_background": "light"
     },
     "output_type": "display_data"
    }
   ],
   "source": [
    "ax = sns.heatmap(results_test, cmap='rocket_r', vmax=4500).set_title('Тепловая карта для test')"
   ]
  },
  {
   "cell_type": "markdown",
   "metadata": {},
   "source": [
    "Итого: как видно, после возрастания числа деревьев более 22 изменения метрики не происходит, поэтому больше их поднимать в данном случае нет необходимости. Также отчетливо заметно, что с ростом максимальной глубины дерева метрика на тесте уменьшается, а на обучающей выборке стремится к нулю, что говорит о переобучении модели.\n",
    "\n",
    "**C текущим большим выбранным шагом обучения в 0.2 самой оптимальной моделью оказалась с числом деревьев в ансамбле равном 17 и максимальной глубине дерева 2-3 (результаты отличаются незначительно).**\n",
    "\n",
    "----"
   ]
  }
 ],
 "metadata": {
  "kernelspec": {
   "display_name": "Python 3",
   "language": "python",
   "name": "python3"
  },
  "language_info": {
   "codemirror_mode": {
    "name": "ipython",
    "version": 3
   },
   "file_extension": ".py",
   "mimetype": "text/x-python",
   "name": "python",
   "nbconvert_exporter": "python",
   "pygments_lexer": "ipython3",
   "version": "3.8.5"
  }
 },
 "nbformat": 4,
 "nbformat_minor": 4
}
