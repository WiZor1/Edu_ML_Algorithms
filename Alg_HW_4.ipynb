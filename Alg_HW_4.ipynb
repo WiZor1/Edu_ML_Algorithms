{
 "cells": [
  {
   "cell_type": "markdown",
   "metadata": {},
   "source": [
    "1. В коде из методички реализуйте один или несколько из критериев останова (количество листьев, количество используемых признаков, глубина дерева и т.д.).\n",
    "2. Для задачи классификации обучить дерево решений с использованием критериев разбиения Джини и Энтропия. Сравнить качество классификации, сделать выводы.\n",
    "3. [опция]. Реализуйте дерево для задачи регрессии. Возьмите за основу дерево, реализованное в методичке, заменив механизм предсказания в листе на взятие среднего значения по выборке, и критерий Джини на дисперсию значений.\n",
    "\n",
    "-----"
   ]
  },
  {
   "cell_type": "markdown",
   "metadata": {},
   "source": [
    "Есть желание полностью переписать код, заимствуя некоторые моменты. Отдельно выделю фрагменты, необходимые по заданию."
   ]
  },
  {
   "cell_type": "code",
   "execution_count": 93,
   "metadata": {},
   "outputs": [],
   "source": [
    "from sklearn import datasets\n",
    "\n",
    "import numpy as np\n",
    "from matplotlib import pyplot as plt\n",
    "from sklearn import model_selection"
   ]
  },
  {
   "cell_type": "code",
   "execution_count": 2,
   "metadata": {},
   "outputs": [],
   "source": [
    "from sklearn.tree import DecisionTreeClassifier"
   ]
  },
  {
   "cell_type": "code",
   "execution_count": 55,
   "metadata": {},
   "outputs": [],
   "source": [
    "class Node:\n",
    "    '''\n",
    "    Узел решающего дерева, храняющий определитель признака и порогового значения, а также\n",
    "    направления на следующие узлы.\n",
    "    '''\n",
    "    def __init__(self, index, thershold, true_branch, false_branch):\n",
    "        self.index = index  # индекс признака\n",
    "        self.thershold = thershold\n",
    "        self.true_branch = true_branch\n",
    "        self.false_branch = false_branch\n",
    "\n",
    "\n",
    "class Leaf:\n",
    "    '''\n",
    "    Узлы, в которых происходит выдача предсказания и дальше дерево не строится\n",
    "    '''\n",
    "    def __init__(self, data, labels):\n",
    "        self.data = data\n",
    "        self.labels = labels\n",
    "        self.prediction = self.predict()\n",
    "        \n",
    "    def predict(self):\n",
    "        classes = dict()\n",
    "        for label in self.labels:\n",
    "            classes[label] = classes.get(label, 0) + 1\n",
    "        prediction = max(classes, key=classes.get)\n",
    "        return prediction  "
   ]
  },
  {
   "cell_type": "code",
   "execution_count": 81,
   "metadata": {},
   "outputs": [],
   "source": [
    "class DecisionTree:\n",
    "    '''\n",
    "    Классификатор, построенный на алгоритме решающего дерева.\n",
    "    \n",
    "    \n",
    "    Parameters:\n",
    "    -----------\n",
    "    predict_type: str\n",
    "        \n",
    "    max_depth: int\n",
    "        \n",
    "    min_leaf: int\n",
    "        \n",
    "    criterion: {\"gini\", \"entropy\"}\n",
    "        Критерий разбиения значения в разные узлы для классификации.\n",
    "        Для задачи регрессии используется оценка дисперсии признаков и атрибут не учитывается.\n",
    "    max_leafes_number: int\n",
    "        \n",
    "    \n",
    "    '''\n",
    "    def __init__(self,\n",
    "                 predict_type: str='classification',\n",
    "                 max_depth: int=None,\n",
    "                 min_leaf: int=1,\n",
    "                 criterion: str='gini',\n",
    "                 max_leafes_number: int=None):\n",
    "        # перечисленные параметры являются параметрами останова, настраиваемыми далее. 1 задание\n",
    "        self.__predict_type = predict_type\n",
    "        self.__max_depth = max_depth\n",
    "        self.__min_leaf = min_leaf\n",
    "        if predict_type == 'regression':\n",
    "            criterion = 'variance'\n",
    "        self.__criterion = criterion\n",
    "        self.__max_leafes_number = max_leafes_number\n",
    "        self.__n_leafs = 0\n",
    "    \n",
    "    def _gini(self, labels: np.array):\n",
    "        '''\n",
    "        Расчет порогового значения в узле(Node) на основании критерия Джини.\n",
    "        Первая часть 2 задания\n",
    "        \n",
    "        \n",
    "        Parameters:\n",
    "        -----------\n",
    "        labels: array like\n",
    "            перечень значений по выбранной метрике\n",
    "        '''        \n",
    "        labels = np.array(labels)\n",
    "        classes, size = np.unique(labels, return_counts=True)\n",
    "        impurity = 1 - ((size / labels.shape)**2).sum()\n",
    "        return impurity\n",
    "        \n",
    "    def _entropy(self, labels: np.array):\n",
    "        '''\n",
    "        Расчет порогового значения в узле(Node) на основании энтропии.\n",
    "        Первая часть 2 задания\n",
    "        '''\n",
    "        labels = np.array(labels)\n",
    "        classes, size = np.unique(labels, return_counts=True)\n",
    "        p = size / labels.shape\n",
    "        impurity = - (p * np.log2(p)).sum()\n",
    "        return impurity\n",
    "\n",
    "    def _variance(self, labels: np.array):\n",
    "        '''\n",
    "        Расчет порогового значения в узле(Node) на основании дисперсии целевой переменной.\n",
    "        3 задание\n",
    "        '''\n",
    "        labels = np.array(labels)\n",
    "        pass\n",
    "    \n",
    "    def _quality(self, left_labels, right_labels, criteria_current):\n",
    "        p = float(left_labels.shape[0]) / (left_labels.shape[0] + right_labels.shape[0])\n",
    "        if self.__criterion == 'gini':\n",
    "            criteria = self._gini\n",
    "        elif self.__criterion == 'entropy':\n",
    "            criteria = self._entropy\n",
    "        return criteria_current - p * criteria(left_labels) - (1 - p) * criteria(right_labels)\n",
    "    \n",
    "    def _split(self, data, labels, index, t):\n",
    "        left = np.where(data[:, index] <= t)\n",
    "        right = np.where(data[:, index] > t)\n",
    "\n",
    "        true_data = data[left]\n",
    "        false_data = data[right]\n",
    "        true_labels = labels[left]\n",
    "        false_labels = labels[right]\n",
    "\n",
    "        return true_data, false_data, true_labels, false_labels\n",
    "    \n",
    "    def _find_best_split(self, data, labels):\n",
    "        if self.__criterion == 'gini':\n",
    "            criteria = self._gini\n",
    "        elif self.__criterion == 'entropy':\n",
    "            criteria = self._entropy\n",
    "            \n",
    "        criteria_current = criteria(labels)\n",
    "\n",
    "        best_quality = 0\n",
    "        best_t = None\n",
    "        best_index = None\n",
    "\n",
    "        n_features = data.shape[1]\n",
    "\n",
    "        for index in range(n_features):\n",
    "            t_values = np.unique(data[:, index])\n",
    "\n",
    "            for t in t_values:\n",
    "                true_data, false_data, true_labels, false_labels = self._split(data, labels, index, t)\n",
    "                if min(len(true_data), len(false_data)) < self.__min_leaf:\n",
    "                    continue\n",
    "\n",
    "                current_quality = self._quality(true_labels, false_labels, criteria_current)\n",
    "\n",
    "                if current_quality > best_quality:\n",
    "                    best_quality, best_t, best_index = current_quality, t, index\n",
    "\n",
    "        return best_quality, best_t, best_index\n",
    "    \n",
    "    def _build_tree(self, data, labels, depth=0):\n",
    "        quality, t, index = self._find_best_split(data, labels)\n",
    "\n",
    "        if quality == 0 or (self.__max_depth is not None and depth >= self.__max_depth):\n",
    "            self.__n_leafs += 1\n",
    "            return Leaf(data, labels)\n",
    "\n",
    "        true_data, false_data, true_labels, false_labels = self._split(data, labels, index, t)\n",
    "        \n",
    "        true_branch = self._build_tree(true_data, true_labels, depth + 1)\n",
    "        false_branch = self._build_tree(false_data, false_labels, depth + 1)\n",
    "\n",
    "        return Node(index, t, true_branch, false_branch)\n",
    "    \n",
    "    def _classify_object(self, obj, node):\n",
    "        if isinstance(node, Leaf):\n",
    "            answer = node.prediction\n",
    "            return answer\n",
    "\n",
    "        if obj[node.index] <= node.thershold:\n",
    "            return self._classify_object(obj, node.true_branch)\n",
    "        else:\n",
    "            return self._classify_object(obj, node.false_branch)\n",
    "    \n",
    "    def fit(self, X, y):\n",
    "        self.__tree = self._build_tree(X, y)\n",
    "    \n",
    "    def predict(self, X):\n",
    "        classes = []\n",
    "        tree = self.__tree\n",
    "        for obj in X:\n",
    "            prediction = self._classify_object(obj, tree)\n",
    "            classes.append(prediction)\n",
    "        return classes\n",
    "    \n",
    "    def fit_predict(self, X, y):\n",
    "        self.fit(X, y)\n",
    "        return self.predict(X)"
   ]
  },
  {
   "cell_type": "code",
   "execution_count": 92,
   "metadata": {
    "scrolled": true
   },
   "outputs": [
    {
     "ename": "ValueError",
     "evalue": "not enough values to unpack (expected 4, got 2)",
     "output_type": "error",
     "traceback": [
      "\u001b[1;31m---------------------------------------------------------------------------\u001b[0m",
      "\u001b[1;31mValueError\u001b[0m                                Traceback (most recent call last)",
      "\u001b[1;32m<ipython-input-92-dcf6ae0b71c7>\u001b[0m in \u001b[0;36m<module>\u001b[1;34m\u001b[0m\n\u001b[1;32m----> 1\u001b[1;33m \u001b[0mX_train\u001b[0m\u001b[1;33m,\u001b[0m\u001b[0mX_test\u001b[0m\u001b[1;33m,\u001b[0m \u001b[0my_train\u001b[0m\u001b[1;33m,\u001b[0m \u001b[0my_test\u001b[0m \u001b[1;33m=\u001b[0m \u001b[0mdatasets\u001b[0m\u001b[1;33m.\u001b[0m\u001b[0mmake_classification\u001b[0m\u001b[1;33m(\u001b[0m\u001b[0mn_samples\u001b[0m\u001b[1;33m=\u001b[0m\u001b[1;36m10\u001b[0m\u001b[1;33m,\u001b[0m \u001b[0mn_features\u001b[0m\u001b[1;33m=\u001b[0m\u001b[1;36m4\u001b[0m\u001b[1;33m)\u001b[0m\u001b[1;33m\u001b[0m\u001b[1;33m\u001b[0m\u001b[0m\n\u001b[0m\u001b[0;32m      2\u001b[0m \u001b[0mX_train\u001b[0m\u001b[1;33m,\u001b[0m \u001b[0my_train\u001b[0m\u001b[1;33m\u001b[0m\u001b[1;33m\u001b[0m\u001b[0m\n",
      "\u001b[1;31mValueError\u001b[0m: not enough values to unpack (expected 4, got 2)"
     ]
    }
   ],
   "source": [
    "X_train,X_test, y_train, y_test = datasets.make_classification(n_samples=10, n_features=4)\n",
    "X_train, y_train\n"
   ]
  },
  {
   "cell_type": "code",
   "execution_count": 89,
   "metadata": {},
   "outputs": [],
   "source": [
    "model_gini = DecisionTree(criterion='gini')\n",
    "model_entropy = DecisionTree(criterion='entropy')"
   ]
  },
  {
   "cell_type": "code",
   "execution_count": 90,
   "metadata": {},
   "outputs": [],
   "source": [
    "pred_gini = model_gini.fit_predict(X, y)\n",
    "pred_entropy = model_entropy.fit_predict(X, y)"
   ]
  },
  {
   "cell_type": "code",
   "execution_count": 91,
   "metadata": {},
   "outputs": [
    {
     "data": {
      "text/plain": [
       "([1, 0, 1, 0, 1, 0, 0, 1, 0, 1], [1, 0, 1, 0, 1, 0, 0, 1, 0, 1])"
      ]
     },
     "execution_count": 91,
     "metadata": {},
     "output_type": "execute_result"
    }
   ],
   "source": [
    "pred_gini, pred_entropy"
   ]
  },
  {
   "cell_type": "markdown",
   "metadata": {},
   "source": [
    "В данном примере особой разницы между использованием разных критериев нет."
   ]
  },
  {
   "cell_type": "code",
   "execution_count": null,
   "metadata": {},
   "outputs": [],
   "source": []
  },
  {
   "cell_type": "code",
   "execution_count": null,
   "metadata": {},
   "outputs": [],
   "source": []
  },
  {
   "cell_type": "code",
   "execution_count": null,
   "metadata": {},
   "outputs": [],
   "source": []
  },
  {
   "cell_type": "code",
   "execution_count": null,
   "metadata": {},
   "outputs": [],
   "source": []
  },
  {
   "cell_type": "code",
   "execution_count": null,
   "metadata": {},
   "outputs": [],
   "source": []
  },
  {
   "cell_type": "code",
   "execution_count": null,
   "metadata": {},
   "outputs": [],
   "source": []
  },
  {
   "cell_type": "code",
   "execution_count": null,
   "metadata": {},
   "outputs": [],
   "source": []
  },
  {
   "cell_type": "code",
   "execution_count": null,
   "metadata": {},
   "outputs": [],
   "source": []
  },
  {
   "cell_type": "code",
   "execution_count": null,
   "metadata": {},
   "outputs": [],
   "source": []
  }
 ],
 "metadata": {
  "kernelspec": {
   "display_name": "Python 3",
   "language": "python",
   "name": "python3"
  },
  "language_info": {
   "codemirror_mode": {
    "name": "ipython",
    "version": 3
   },
   "file_extension": ".py",
   "mimetype": "text/x-python",
   "name": "python",
   "nbconvert_exporter": "python",
   "pygments_lexer": "ipython3",
   "version": "3.8.5"
  }
 },
 "nbformat": 4,
 "nbformat_minor": 4
}
